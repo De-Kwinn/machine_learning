{
 "cells": [
  {
   "cell_type": "code",
   "execution_count": 1,
   "id": "8067397c",
   "metadata": {},
   "outputs": [],
   "source": [
    "#importing the necessary libraries needed\n",
    "import numpy as np\n",
    "import matplotlib.pyplot as plt\n",
    "from sklearn.model_selection import train_test_split, cross_val_score\n",
    "from sklearn.linear_model import LinearRegression\n",
    "from sklearn.naive_bayes import GaussianNB\n",
    "from sklearn.metrics import confusion_matrix,recall_score, roc_auc_score,f1_score,adjusted_rand_score, accuracy_score, normalized_mutual_info_score, precision_score, silhouette_score\n",
    "from sklearn.cluster import KMeans, AgglomerativeClustering\n",
    "from sklearn.mixture import GaussianMixture\n",
    "from sklearn.tree import DecisionTreeClassifier\n",
    "from skimage.transform import resize"
   ]
  },
  {
   "cell_type": "code",
   "execution_count": 2,
   "id": "c8bd57c1",
   "metadata": {
    "scrolled": false
   },
   "outputs": [
    {
     "name": "stdout",
     "output_type": "stream",
     "text": [
      "Requirement already satisfied: scikit-learn in c:\\users\\oc\\anaconda3\\envs\\f21dl\\lib\\site-packages (1.3.0)\n",
      "Requirement already satisfied: joblib>=1.1.1 in c:\\users\\oc\\anaconda3\\envs\\f21dl\\lib\\site-packages (from scikit-learn) (1.3.1)\n",
      "Requirement already satisfied: numpy>=1.17.3 in c:\\users\\oc\\anaconda3\\envs\\f21dl\\lib\\site-packages (from scikit-learn) (1.23.3)\n",
      "Requirement already satisfied: scipy>=1.5.0 in c:\\users\\oc\\anaconda3\\envs\\f21dl\\lib\\site-packages (from scikit-learn) (1.11.1)\n",
      "Requirement already satisfied: threadpoolctl>=2.0.0 in c:\\users\\oc\\anaconda3\\envs\\f21dl\\lib\\site-packages (from scikit-learn) (3.2.0)\n",
      "Note: you may need to restart the kernel to use updated packages.\n"
     ]
    }
   ],
   "source": [
    "pip install --upgrade scikit-learn"
   ]
  },
  {
   "cell_type": "code",
   "execution_count": 3,
   "id": "cc7a77cd",
   "metadata": {},
   "outputs": [
    {
     "name": "stdout",
     "output_type": "stream",
     "text": [
      "Requirement already satisfied: scikit-image in c:\\users\\oc\\anaconda3\\envs\\f21dl\\lib\\site-packages (0.21.0)\n",
      "Requirement already satisfied: PyWavelets>=1.1.1 in c:\\users\\oc\\anaconda3\\envs\\f21dl\\lib\\site-packages (from scikit-image) (1.4.1)\n",
      "Requirement already satisfied: lazy_loader>=0.2 in c:\\users\\oc\\anaconda3\\envs\\f21dl\\lib\\site-packages (from scikit-image) (0.3)\n",
      "Requirement already satisfied: imageio>=2.27 in c:\\users\\oc\\anaconda3\\envs\\f21dl\\lib\\site-packages (from scikit-image) (2.31.1)\n",
      "Requirement already satisfied: networkx>=2.8 in c:\\users\\oc\\anaconda3\\envs\\f21dl\\lib\\site-packages (from scikit-image) (3.1)\n",
      "Requirement already satisfied: pillow>=9.0.1 in c:\\users\\oc\\anaconda3\\envs\\f21dl\\lib\\site-packages (from scikit-image) (9.3.0)\n",
      "Requirement already satisfied: packaging>=21 in c:\\users\\oc\\anaconda3\\envs\\f21dl\\lib\\site-packages (from scikit-image) (21.3)\n",
      "Requirement already satisfied: tifffile>=2022.8.12 in c:\\users\\oc\\anaconda3\\envs\\f21dl\\lib\\site-packages (from scikit-image) (2023.7.18)\n",
      "Requirement already satisfied: scipy>=1.8 in c:\\users\\oc\\anaconda3\\envs\\f21dl\\lib\\site-packages (from scikit-image) (1.11.1)\n",
      "Requirement already satisfied: numpy>=1.21.1 in c:\\users\\oc\\anaconda3\\envs\\f21dl\\lib\\site-packages (from scikit-image) (1.23.3)\n",
      "Requirement already satisfied: pyparsing!=3.0.5,>=2.0.2 in c:\\users\\oc\\anaconda3\\envs\\f21dl\\lib\\site-packages (from packaging>=21->scikit-image) (3.0.9)\n",
      "Note: you may need to restart the kernel to use updated packages.\n"
     ]
    }
   ],
   "source": [
    "pip install scikit-image"
   ]
  },
  {
   "cell_type": "markdown",
   "id": "78ae6a53",
   "metadata": {},
   "source": [
    "# Part 1: Data analysis and Bayes Net"
   ]
  },
  {
   "cell_type": "code",
   "execution_count": 4,
   "id": "6e62ec58",
   "metadata": {},
   "outputs": [],
   "source": [
    "#loading the noiseless datasets\n",
    "X= np.load('smiley_dataset/smiley_X.npy')\n",
    "Y= np.load('smiley_dataset/smiley_Y.npy')"
   ]
  },
  {
   "cell_type": "code",
   "execution_count": 5,
   "id": "5667fea6",
   "metadata": {
    "scrolled": true
   },
   "outputs": [
    {
     "name": "stdout",
     "output_type": "stream",
     "text": [
      "(204, 9, 9, 1)\n",
      "(204,)\n"
     ]
    }
   ],
   "source": [
    "print(X.shape)\n",
    "print(Y.shape)"
   ]
  },
  {
   "cell_type": "code",
   "execution_count": 6,
   "id": "a777c25e",
   "metadata": {},
   "outputs": [
    {
     "name": "stdout",
     "output_type": "stream",
     "text": [
      "class: 0.0 count: 72\n",
      "class: 1.0 count: 60\n",
      "class: 2.0 count: 72\n"
     ]
    }
   ],
   "source": [
    "unique_Y, Y_count= np.unique(Y,return_counts=True)\n",
    "## identifying and printing unique classes where Y represents the classes\n",
    "\n",
    "for class_label, count in zip(unique_Y, Y_count):\n",
    "    print('class:',class_label,\"count:\",count)\n",
    "    ## where 0 is sad, 1 is neutral, 2 is happy"
   ]
  },
  {
   "cell_type": "code",
   "execution_count": 7,
   "id": "733776a3",
   "metadata": {},
   "outputs": [
    {
     "name": "stdout",
     "output_type": "stream",
     "text": [
      "Requirement already satisfied: numpy in c:\\users\\oc\\anaconda3\\envs\\f21dl\\lib\\site-packages (1.23.3)\n"
     ]
    }
   ],
   "source": [
    "import numpy as np\n",
    "!pip install numpy"
   ]
  },
  {
   "cell_type": "markdown",
   "id": "13a60579",
   "metadata": {},
   "source": [
    "#  Data visualization"
   ]
  },
  {
   "cell_type": "code",
   "execution_count": 37,
   "id": "4ca491ad",
   "metadata": {
    "scrolled": false
   },
   "outputs": [
    {
     "data": {
      "image/png": "[encoded data removed]",
      "text/plain": [
       "<Figure size 1000x400 with 12 Axes>"
      ]
     },
     "metadata": {},
     "output_type": "display_data"
    }
   ],
   "source": [
    "#selcet some random images from the dataset for visualization of the\n",
    "indices =np.random.choice(len(X), size =12, replace = False)\n",
    "\n",
    "#plot the selected imges\n",
    "fig, axes = plt.subplots(2,6, figsize =(10,4))\n",
    "axes = axes.flatten()\n",
    "for  i, index in enumerate(indices):\n",
    "    axes[i].imshow(X[index, :,:,0], cmap =\"gray\")\n",
    "    axes[i].set_title(f\"Labels: {Y[index]}\")\n",
    "    axes[i].axis('off')\n",
    "plt.tight_layout()\n",
    "plt.show()"
   ]
  },
  {
   "cell_type": "markdown",
   "id": "26fd63dd",
   "metadata": {},
   "source": [
    "# Model training using Naive Bayes"
   ]
  },
  {
   "cell_type": "code",
   "execution_count": 9,
   "id": "fe7d85c5",
   "metadata": {},
   "outputs": [],
   "source": [
    "#splitting our datse into traing and testing\n",
    "X_train, X_test, Y_train, Y_test = train_test_split(X, Y, test_size =0.2, random_state = 42)\n",
    "\n"
   ]
  },
  {
   "cell_type": "code",
   "execution_count": 10,
   "id": "b505d347",
   "metadata": {},
   "outputs": [],
   "source": [
    "#create an instance of naive bayes\n",
    "naive_bayes = GaussianNB()"
   ]
  },
  {
   "cell_type": "code",
   "execution_count": 11,
   "id": "e7809331",
   "metadata": {},
   "outputs": [
    {
     "data": {
      "text/html": [
       "<style>#sk-container-id-1 {color: black;}#sk-container-id-1 pre{padding: 0;}#sk-container-id-1 div.sk-toggleable {background-color: white;}#sk-container-id-1 label.sk-toggleable__label {cursor: pointer;display: block;width: 100%;margin-bottom: 0;padding: 0.3em;box-sizing: border-box;text-align: center;}#sk-container-id-1 label.sk-toggleable__label-arrow:before {content: \"▸\";float: left;margin-right: 0.25em;color: #696969;}#sk-container-id-1 label.sk-toggleable__label-arrow:hover:before {color: black;}#sk-container-id-1 div.sk-estimator:hover label.sk-toggleable__label-arrow:before {color: black;}#sk-container-id-1 div.sk-toggleable__content {max-height: 0;max-width: 0;overflow: hidden;text-align: left;background-color: #f0f8ff;}#sk-container-id-1 div.sk-toggleable__content pre {margin: 0.2em;color: black;border-radius: 0.25em;background-color: #f0f8ff;}#sk-container-id-1 input.sk-toggleable__control:checked~div.sk-toggleable__content {max-height: 200px;max-width: 100%;overflow: auto;}#sk-container-id-1 input.sk-toggleable__control:checked~label.sk-toggleable__label-arrow:before {content: \"▾\";}#sk-container-id-1 div.sk-estimator input.sk-toggleable__control:checked~label.sk-toggleable__label {background-color: #d4ebff;}#sk-container-id-1 div.sk-label input.sk-toggleable__control:checked~label.sk-toggleable__label {background-color: #d4ebff;}#sk-container-id-1 input.sk-hidden--visually {border: 0;clip: rect(1px 1px 1px 1px);clip: rect(1px, 1px, 1px, 1px);height: 1px;margin: -1px;overflow: hidden;padding: 0;position: absolute;width: 1px;}#sk-container-id-1 div.sk-estimator {font-family: monospace;background-color: #f0f8ff;border: 1px dotted black;border-radius: 0.25em;box-sizing: border-box;margin-bottom: 0.5em;}#sk-container-id-1 div.sk-estimator:hover {background-color: #d4ebff;}#sk-container-id-1 div.sk-parallel-item::after {content: \"\";width: 100%;border-bottom: 1px solid gray;flex-grow: 1;}#sk-container-id-1 div.sk-label:hover label.sk-toggleable__label {background-color: #d4ebff;}#sk-container-id-1 div.sk-serial::before {content: \"\";position: absolute;border-left: 1px solid gray;box-sizing: border-box;top: 0;bottom: 0;left: 50%;z-index: 0;}#sk-container-id-1 div.sk-serial {display: flex;flex-direction: column;align-items: center;background-color: white;padding-right: 0.2em;padding-left: 0.2em;position: relative;}#sk-container-id-1 div.sk-item {position: relative;z-index: 1;}#sk-container-id-1 div.sk-parallel {display: flex;align-items: stretch;justify-content: center;background-color: white;position: relative;}#sk-container-id-1 div.sk-item::before, #sk-container-id-1 div.sk-parallel-item::before {content: \"\";position: absolute;border-left: 1px solid gray;box-sizing: border-box;top: 0;bottom: 0;left: 50%;z-index: -1;}#sk-container-id-1 div.sk-parallel-item {display: flex;flex-direction: column;z-index: 1;position: relative;background-color: white;}#sk-container-id-1 div.sk-parallel-item:first-child::after {align-self: flex-end;width: 50%;}#sk-container-id-1 div.sk-parallel-item:last-child::after {align-self: flex-start;width: 50%;}#sk-container-id-1 div.sk-parallel-item:only-child::after {width: 0;}#sk-container-id-1 div.sk-dashed-wrapped {border: 1px dashed gray;margin: 0 0.4em 0.5em 0.4em;box-sizing: border-box;padding-bottom: 0.4em;background-color: white;}#sk-container-id-1 div.sk-label label {font-family: monospace;font-weight: bold;display: inline-block;line-height: 1.2em;}#sk-container-id-1 div.sk-label-container {text-align: center;}#sk-container-id-1 div.sk-container {/* jupyter's `normalize.less` sets `[hidden] { display: none; }` but bootstrap.min.css set `[hidden] { display: none !important; }` so we also need the `!important` here to be able to override the default hidden behavior on the sphinx rendered scikit-learn.org. See: https://github.com/scikit-learn/scikit-learn/issues/21755 */display: inline-block !important;position: relative;}#sk-container-id-1 div.sk-text-repr-fallback {display: none;}</style><div id=\"sk-container-id-1\" class=\"sk-top-container\"><div class=\"sk-text-repr-fallback\"><pre>GaussianNB()</pre><b>In a Jupyter environment, please rerun this cell to show the HTML representation or trust the notebook. <br />On GitHub, the HTML representation is unable to render, please try loading this page with nbviewer.org.</b></div><div class=\"sk-container\" hidden><div class=\"sk-item\"><div class=\"sk-estimator sk-toggleable\"><input class=\"sk-toggleable__control sk-hidden--visually\" id=\"sk-estimator-id-1\" type=\"checkbox\" checked><label for=\"sk-estimator-id-1\" class=\"sk-toggleable__label sk-toggleable__label-arrow\">GaussianNB</label><div class=\"sk-toggleable__content\"><pre>GaussianNB()</pre></div></div></div></div></div>"
      ],
      "text/plain": [
       "GaussianNB()"
      ]
     },
     "execution_count": 11,
     "metadata": {},
     "output_type": "execute_result"
    }
   ],
   "source": [
    "\n",
    "#Reshaping the training dataset and Training the naive bayes classifier \n",
    "naive_bayes.fit(X_train.reshape(X_train.shape[0], -1), Y_train)\n"
   ]
  },
  {
   "cell_type": "code",
   "execution_count": 12,
   "id": "3508b486",
   "metadata": {},
   "outputs": [],
   "source": [
    "#reshaping the testing dataset\n",
    "X_test_reshape = X_test.reshape(X_test.shape[0], -1)\n",
    "#predicting \n",
    "y_predict = naive_bayes.predict(X_test_reshape)"
   ]
  },
  {
   "cell_type": "code",
   "execution_count": 13,
   "id": "943d9283",
   "metadata": {},
   "outputs": [
    {
     "name": "stdout",
     "output_type": "stream",
     "text": [
      "Noiseless dataset accuracy: 0.6585365853658537\n"
     ]
    }
   ],
   "source": [
    "# Getting the accuracy for the noiseless dataset\n",
    "accuracy = accuracy_score(Y_test, y_predict)\n",
    "print(\"Noiseless dataset accuracy:\", accuracy)"
   ]
  },
  {
   "cell_type": "code",
   "execution_count": 39,
   "id": "08597836",
   "metadata": {},
   "outputs": [
    {
     "name": "stdout",
     "output_type": "stream",
     "text": [
      "Classification Report (Noiseless Test Set):\n",
      "               precision    recall  f1-score   support\n",
      "\n",
      "         0.0       0.91      0.67      0.77        15\n",
      "         1.0       0.38      0.67      0.48         9\n",
      "         2.0       0.79      0.65      0.71        17\n",
      "\n",
      "    accuracy                           0.66        41\n",
      "   macro avg       0.69      0.66      0.65        41\n",
      "weighted avg       0.74      0.66      0.68        41\n",
      "\n"
     ]
    }
   ],
   "source": [
    "from sklearn.metrics import classification_report\n",
    "\n",
    "# Getting the classification report for the test set of the noiseless dataset\n",
    "evaluation = classification_report(Y_test, y_predict)\n",
    "print(\"Classification Report (Noiseless Test Set):\\n\", evaluation)\n"
   ]
  },
  {
   "cell_type": "code",
   "execution_count": 14,
   "id": "a9635ebc",
   "metadata": {},
   "outputs": [
    {
     "name": "stdout",
     "output_type": "stream",
     "text": [
      "confusion matrix: \n",
      " [[10  4  1]\n",
      " [ 1  6  2]\n",
      " [ 0  6 11]]\n"
     ]
    }
   ],
   "source": [
    "#generating the confusion matrix\n",
    "\n",
    "confus_matrix = confusion_matrix(Y_test, y_predict)\n",
    "print(\"confusion matrix: \\n\", confus_matrix)"
   ]
  },
  {
   "cell_type": "code",
   "execution_count": 15,
   "id": "425379ee",
   "metadata": {},
   "outputs": [],
   "source": [
    "#genarating other matices\n",
    "tp_rate = confus_matrix[1,1]/(confus_matrix[1,1] + confus_matrix[1,0])\n",
    "fp_rate = confus_matrix[0,1]/(confus_matrix[0,1] + confus_matrix[0,0])\n",
    "precision = confus_matrix[1,1]/(confus_matrix[1,1] + confus_matrix[0,1])\n",
    "recall = tp_rate\n",
    "f_measure = 2 * (precision * recall) / (precision + recall)"
   ]
  },
  {
   "cell_type": "code",
   "execution_count": 16,
   "id": "d90cf5d8",
   "metadata": {},
   "outputs": [
    {
     "name": "stdout",
     "output_type": "stream",
     "text": [
      "TP Rate:  0.8571428571428571\n",
      "FP Rate: 0.2857142857142857\n",
      "Recall:  0.8571428571428571\n",
      "F1 Measure:  0.7058823529411764\n"
     ]
    }
   ],
   "source": [
    "print(\"TP Rate: \", tp_rate)\n",
    "print(\"FP Rate:\", fp_rate)\n",
    "print(\"Recall: \", recall)\n",
    "print(\"F1 Measure: \", f_measure)"
   ]
  },
  {
   "cell_type": "code",
   "execution_count": 17,
   "id": "59701181",
   "metadata": {
    "scrolled": true
   },
   "outputs": [
    {
     "name": "stdout",
     "output_type": "stream",
     "text": [
      "ROC area: 0.8387867647058823\n"
     ]
    }
   ],
   "source": [
    "#generating ROC \n",
    "\n",
    "if len(unique_Y) == 2:\n",
    "    roc_area = roc_auc_score(Y_test, Y_predict)\n",
    "else: #multi-class classification\n",
    "    y_prob = naive_bayes.predict_proba(X_test_reshape)\n",
    "    roc_area = roc_auc_score(Y_test, y_prob, multi_class='ovr')\n",
    "print(\"ROC area:\", roc_area)"
   ]
  },
  {
   "cell_type": "markdown",
   "id": "70a5c0aa",
   "metadata": {},
   "source": [
    "# Discussion and conclusion "
   ]
  },
  {
   "cell_type": "markdown",
   "id": "0bc8bf2f",
   "metadata": {},
   "source": [
    "The visualization gives you a quick glimpse or insight of some images selected randomly from the dataset and their corresponding labels. In this visualization, there were no cases of missing values or outliers.\n",
    "This can be helpful for understanding the data distribution and gaining insights into the dataset's characteristics. You can visually verify if the images are correctly labeled or if there are any patterns or variations in the data. Additionally, if the dataset is imbalanced (i.e., some classes have more samples than others), you might notice such imbalances in the visualization.\n",
    "\n",
    "The accuracy of 65.86% suggests that the model's predictions are correct for a significant portion of the dataset. However, it may not be sufficient for certain applications, especially if there are imbalances in the class distribution.\n",
    "The high TP Rate and Recall of 85.71% indicate that the model can correctly identify positive instances, which is important in tasks like disease diagnosis or anomaly detection.\n",
    "The FP Rate of 28.57% shows that the model makes some false positive predictions, which may be acceptable depending on the specific application's requirements.\n",
    "The F1 Measure of 70.59% indicates a reasonably balanced trade-off between precision and recall, considering both positive and negative instances.\n",
    "The ROC area of 83.88% shows that the model performs well in distinguishing between positive and negative instances, implying good overall discrimination ability.\n",
    "\n",
    "In conclusion, the model seems to perform well on the noiseless dataset, but further analysis and tuning might be needed to improve its performance on specific aspects depending on the specific application and requirements."
   ]
  },
  {
   "cell_type": "markdown",
   "id": "3354b450",
   "metadata": {},
   "source": [
    "# Part 2: Clustering "
   ]
  },
  {
   "cell_type": "code",
   "execution_count": 18,
   "id": "e1564ba6",
   "metadata": {},
   "outputs": [
    {
     "name": "stderr",
     "output_type": "stream",
     "text": [
      "C:\\Users\\OC\\anaconda3\\envs\\F21DL\\lib\\site-packages\\sklearn\\cluster\\_kmeans.py:1436: UserWarning: KMeans is known to have a memory leak on Windows with MKL, when there are less chunks than available threads. You can avoid it by setting the environment variable OMP_NUM_THREADS=1.\n",
      "  warnings.warn(\n"
     ]
    }
   ],
   "source": [
    "X_2d = X.reshape(X.shape[0], -1) #reshaping the dataset for clustering\n",
    "#creating an instance of kmeans clustering\n",
    "kmeans = KMeans(n_clusters = 3, n_init = 10, random_state = 42)\n",
    "kmeans.fit(X_2d)\n",
    "cluster_labels = kmeans.labels_"
   ]
  },
  {
   "cell_type": "code",
   "execution_count": 19,
   "id": "4b520370",
   "metadata": {},
   "outputs": [
    {
     "data": {
      "image/png": "[encoded data removed]",
      "text/plain": [
       "<Figure size 800x300 with 3 Axes>"
      ]
     },
     "metadata": {},
     "output_type": "display_data"
    }
   ],
   "source": [
    "#getting the centroids\n",
    "cluster_centers = kmeans.cluster_centers_\n",
    "\n",
    "#image dimensions\n",
    "img_height =9\n",
    "img_width = 9\n",
    "#plotting the centroids\n",
    "plt.figure(figsize = (8,3))\n",
    "for i, center in enumerate(cluster_centers):\n",
    "    plt.subplot(1, len(cluster_centers), i +1)\n",
    "    plt.imshow(center.reshape((img_height, img_width)), cmap = 'gray')\n",
    "    plt.axis('off')\n",
    "    plt.title(f\"cluster:{i + 1}\")\n",
    "plt.tight_layout()\n",
    "plt.show()"
   ]
  },
  {
   "cell_type": "code",
   "execution_count": 20,
   "id": "a55d35ae",
   "metadata": {},
   "outputs": [
    {
     "name": "stdout",
     "output_type": "stream",
     "text": [
      "Adjusted Rand Index(ARI): 0.31288134543314644\n"
     ]
    }
   ],
   "source": [
    "#calculating the ARI for the cluster\n",
    "kmeans_ari = adjusted_rand_score(Y, cluster_labels)\n",
    "print(f\"Adjusted Rand Index(ARI): {kmeans_ari}\")"
   ]
  },
  {
   "cell_type": "code",
   "execution_count": 21,
   "id": "5802fd88",
   "metadata": {},
   "outputs": [
    {
     "name": "stdout",
     "output_type": "stream",
     "text": [
      "NMI Score: 0.40829222303576546\n"
     ]
    }
   ],
   "source": [
    "#calculating the NMI score\n",
    "kmeans_nmi = normalized_mutual_info_score(Y, cluster_labels)\n",
    "#print the NMI score\n",
    "print(f\"NMI Score: {kmeans_nmi}\")"
   ]
  },
  {
   "cell_type": "code",
   "execution_count": 22,
   "id": "0c95964c",
   "metadata": {},
   "outputs": [
    {
     "name": "stdout",
     "output_type": "stream",
     "text": [
      "Evaluation Metric Score: 0.31288134543314644\n"
     ]
    }
   ],
   "source": [
    "#calculating the Hierarchical score\n",
    "hierarchical = AgglomerativeClustering(n_clusters = 3)\n",
    "hierarchical.fit(X_2d)\n",
    "hierarchical_labels = hierarchical.labels_\n",
    "hierarchical_ari = adjusted_rand_score(Y, hierarchical_labels)\n",
    "print(\"Evaluation Metric Score:\", hierarchical_ari)"
   ]
  },
  {
   "cell_type": "code",
   "execution_count": 23,
   "id": "bc76c5f3",
   "metadata": {},
   "outputs": [
    {
     "name": "stderr",
     "output_type": "stream",
     "text": [
      "C:\\Users\\OC\\anaconda3\\envs\\F21DL\\lib\\site-packages\\sklearn\\cluster\\_kmeans.py:1436: UserWarning: KMeans is known to have a memory leak on Windows with MKL, when there are less chunks than available threads. You can avoid it by setting the environment variable OMP_NUM_THREADS=1.\n",
      "  warnings.warn(\n"
     ]
    },
    {
     "name": "stdout",
     "output_type": "stream",
     "text": [
      "ARI for Gmm : 0.06510301252674998\n"
     ]
    }
   ],
   "source": [
    "#implementing the GMM algorithm\n",
    "#creating an instance of the GaussianMixture algorithm\n",
    "gmm = GaussianMixture(n_components = 3, random_state = 42)\n",
    "#fittting the Gmm to the data\n",
    "gmm.fit(X_2d)\n",
    "#getting the cluster labels\n",
    "gmm_labels = gmm.predict(X_2d)\n",
    "#calculating the ARI for the Gmm clustering\n",
    "gmm_ari = adjusted_rand_score(Y, gmm_labels)\n",
    "print(f\"ARI for Gmm : {gmm_ari}\")"
   ]
  },
  {
   "cell_type": "code",
   "execution_count": 24,
   "id": "496b1432",
   "metadata": {},
   "outputs": [
    {
     "name": "stderr",
     "output_type": "stream",
     "text": [
      "C:\\Users\\OC\\anaconda3\\envs\\F21DL\\lib\\site-packages\\sklearn\\cluster\\_kmeans.py:1436: UserWarning: KMeans is known to have a memory leak on Windows with MKL, when there are less chunks than available threads. You can avoid it by setting the environment variable OMP_NUM_THREADS=1.\n",
      "  warnings.warn(\n",
      "C:\\Users\\OC\\anaconda3\\envs\\F21DL\\lib\\site-packages\\sklearn\\cluster\\_kmeans.py:1436: UserWarning: KMeans is known to have a memory leak on Windows with MKL, when there are less chunks than available threads. You can avoid it by setting the environment variable OMP_NUM_THREADS=1.\n",
      "  warnings.warn(\n"
     ]
    },
    {
     "name": "stdout",
     "output_type": "stream",
     "text": [
      "K-means: Number of Clusters: 2\t Silhouette Score: 0.17892954725892904\t ARI: 0.0900497790704178\t NMI Score:0.08562473128196435\n",
      "EM Clustering: Number of Clusters: 2\t Silhouette Score: 0.17123347761650676\t ARI: 0.18221140002754235\n",
      "Hierarchical Clustering: Number of Clusters: 2\t Silhouette Score: 0.17892954725892904\t ARI: 0.0900497790704178\n",
      " \n",
      "K-means: Number of Clusters: 3\t Silhouette Score: 0.2405717947349726\t ARI: 0.31288134543314644\t NMI Score:0.40829222303576546\n",
      "EM Clustering: Number of Clusters: 3\t Silhouette Score: 0.1588855656951513\t ARI: 0.06510301252674998\n",
      "Hierarchical Clustering: Number of Clusters: 3\t Silhouette Score: 0.2405717947349726\t ARI: 0.31288134543314644\n",
      " \n",
      "K-means: Number of Clusters: 4\t Silhouette Score: 0.2730656760257601\t ARI: 0.24362172925633863\t NMI Score:0.40670370557149094\n",
      "EM Clustering: Number of Clusters: 4\t Silhouette Score: 0.2730656760257601\t ARI: 0.24362172925633863\n"
     ]
    },
    {
     "name": "stderr",
     "output_type": "stream",
     "text": [
      "C:\\Users\\OC\\anaconda3\\envs\\F21DL\\lib\\site-packages\\sklearn\\cluster\\_kmeans.py:1436: UserWarning: KMeans is known to have a memory leak on Windows with MKL, when there are less chunks than available threads. You can avoid it by setting the environment variable OMP_NUM_THREADS=1.\n",
      "  warnings.warn(\n",
      "C:\\Users\\OC\\anaconda3\\envs\\F21DL\\lib\\site-packages\\sklearn\\cluster\\_kmeans.py:1436: UserWarning: KMeans is known to have a memory leak on Windows with MKL, when there are less chunks than available threads. You can avoid it by setting the environment variable OMP_NUM_THREADS=1.\n",
      "  warnings.warn(\n",
      "C:\\Users\\OC\\anaconda3\\envs\\F21DL\\lib\\site-packages\\sklearn\\cluster\\_kmeans.py:1436: UserWarning: KMeans is known to have a memory leak on Windows with MKL, when there are less chunks than available threads. You can avoid it by setting the environment variable OMP_NUM_THREADS=1.\n",
      "  warnings.warn(\n",
      "C:\\Users\\OC\\anaconda3\\envs\\F21DL\\lib\\site-packages\\sklearn\\cluster\\_kmeans.py:1436: UserWarning: KMeans is known to have a memory leak on Windows with MKL, when there are less chunks than available threads. You can avoid it by setting the environment variable OMP_NUM_THREADS=1.\n",
      "  warnings.warn(\n",
      "C:\\Users\\OC\\anaconda3\\envs\\F21DL\\lib\\site-packages\\sklearn\\cluster\\_kmeans.py:1436: UserWarning: KMeans is known to have a memory leak on Windows with MKL, when there are less chunks than available threads. You can avoid it by setting the environment variable OMP_NUM_THREADS=1.\n",
      "  warnings.warn(\n"
     ]
    },
    {
     "name": "stdout",
     "output_type": "stream",
     "text": [
      "Hierarchical Clustering: Number of Clusters: 4\t Silhouette Score: 0.2730656760257601\t ARI: 0.24362172925633863\n",
      " \n",
      "K-means: Number of Clusters: 5\t Silhouette Score: 0.270787720845357\t ARI: 0.2515795409090252\t NMI Score:0.44192322380757576\n",
      "EM Clustering: Number of Clusters: 5\t Silhouette Score: 0.2511342639969949\t ARI: 0.302549921377835\n",
      "Hierarchical Clustering: Number of Clusters: 5\t Silhouette Score: 0.270787720845357\t ARI: 0.2515795409090252\n",
      " \n",
      "K-means: Number of Clusters: 6\t Silhouette Score: 0.2729044590525549\t ARI: 0.3130655805478571\t NMI Score:0.4983172204690129\n"
     ]
    },
    {
     "name": "stderr",
     "output_type": "stream",
     "text": [
      "C:\\Users\\OC\\anaconda3\\envs\\F21DL\\lib\\site-packages\\sklearn\\cluster\\_kmeans.py:1436: UserWarning: KMeans is known to have a memory leak on Windows with MKL, when there are less chunks than available threads. You can avoid it by setting the environment variable OMP_NUM_THREADS=1.\n",
      "  warnings.warn(\n",
      "C:\\Users\\OC\\anaconda3\\envs\\F21DL\\lib\\site-packages\\sklearn\\cluster\\_kmeans.py:1436: UserWarning: KMeans is known to have a memory leak on Windows with MKL, when there are less chunks than available threads. You can avoid it by setting the environment variable OMP_NUM_THREADS=1.\n",
      "  warnings.warn(\n",
      "C:\\Users\\OC\\anaconda3\\envs\\F21DL\\lib\\site-packages\\sklearn\\cluster\\_kmeans.py:1436: UserWarning: KMeans is known to have a memory leak on Windows with MKL, when there are less chunks than available threads. You can avoid it by setting the environment variable OMP_NUM_THREADS=1.\n",
      "  warnings.warn(\n",
      "C:\\Users\\OC\\anaconda3\\envs\\F21DL\\lib\\site-packages\\sklearn\\cluster\\_kmeans.py:1436: UserWarning: KMeans is known to have a memory leak on Windows with MKL, when there are less chunks than available threads. You can avoid it by setting the environment variable OMP_NUM_THREADS=1.\n",
      "  warnings.warn(\n"
     ]
    },
    {
     "name": "stdout",
     "output_type": "stream",
     "text": [
      "EM Clustering: Number of Clusters: 6\t Silhouette Score: 0.26702304067628035\t ARI: 0.26008825509211936\n",
      "Hierarchical Clustering: Number of Clusters: 6\t Silhouette Score: 0.2729044590525549\t ARI: 0.3130655805478571\n",
      " \n",
      "K-means: Number of Clusters: 7\t Silhouette Score: 0.29172464458046876\t ARI: 0.26920712968653965\t NMI Score:0.47924515132811546\n",
      "EM Clustering: Number of Clusters: 7\t Silhouette Score: 0.2388999622636098\t ARI: 0.22959776002185345\n",
      "Hierarchical Clustering: Number of Clusters: 7\t Silhouette Score: 0.29172464458046876\t ARI: 0.26920712968653965\n",
      " \n"
     ]
    },
    {
     "name": "stderr",
     "output_type": "stream",
     "text": [
      "C:\\Users\\OC\\anaconda3\\envs\\F21DL\\lib\\site-packages\\sklearn\\cluster\\_kmeans.py:1436: UserWarning: KMeans is known to have a memory leak on Windows with MKL, when there are less chunks than available threads. You can avoid it by setting the environment variable OMP_NUM_THREADS=1.\n",
      "  warnings.warn(\n",
      "C:\\Users\\OC\\anaconda3\\envs\\F21DL\\lib\\site-packages\\sklearn\\cluster\\_kmeans.py:1436: UserWarning: KMeans is known to have a memory leak on Windows with MKL, when there are less chunks than available threads. You can avoid it by setting the environment variable OMP_NUM_THREADS=1.\n",
      "  warnings.warn(\n",
      "C:\\Users\\OC\\anaconda3\\envs\\F21DL\\lib\\site-packages\\sklearn\\cluster\\_kmeans.py:1436: UserWarning: KMeans is known to have a memory leak on Windows with MKL, when there are less chunks than available threads. You can avoid it by setting the environment variable OMP_NUM_THREADS=1.\n",
      "  warnings.warn(\n"
     ]
    },
    {
     "name": "stdout",
     "output_type": "stream",
     "text": [
      "K-means: Number of Clusters: 8\t Silhouette Score: 0.28387905647115697\t ARI: 0.25490130841025394\t NMI Score:0.4482100778675968\n",
      "EM Clustering: Number of Clusters: 8\t Silhouette Score: 0.2410375538232225\t ARI: 0.211857006596182\n",
      "Hierarchical Clustering: Number of Clusters: 8\t Silhouette Score: 0.26785893418174106\t ARI: 0.26862742730980904\n",
      " \n",
      "K-means: Number of Clusters: 9\t Silhouette Score: 0.260245802360912\t ARI: 0.23948938531982794\t NMI Score:0.4313086629444967\n",
      "EM Clustering: Number of Clusters: 9\t Silhouette Score: 0.22939089048175\t ARI: 0.20465436896203917\n",
      "Hierarchical Clustering: Number of Clusters: 9\t Silhouette Score: 0.27214670693336596\t ARI: 0.28978790525125747\n",
      " \n"
     ]
    },
    {
     "name": "stderr",
     "output_type": "stream",
     "text": [
      "C:\\Users\\OC\\anaconda3\\envs\\F21DL\\lib\\site-packages\\sklearn\\cluster\\_kmeans.py:1436: UserWarning: KMeans is known to have a memory leak on Windows with MKL, when there are less chunks than available threads. You can avoid it by setting the environment variable OMP_NUM_THREADS=1.\n",
      "  warnings.warn(\n",
      "C:\\Users\\OC\\anaconda3\\envs\\F21DL\\lib\\site-packages\\sklearn\\cluster\\_kmeans.py:1436: UserWarning: KMeans is known to have a memory leak on Windows with MKL, when there are less chunks than available threads. You can avoid it by setting the environment variable OMP_NUM_THREADS=1.\n",
      "  warnings.warn(\n"
     ]
    },
    {
     "data": {
      "image/png": "[encoded data removed]",
      "text/plain": [
       "<Figure size 640x480 with 1 Axes>"
      ]
     },
     "metadata": {},
     "output_type": "display_data"
    },
    {
     "data": {
      "image/png": "[encoded data removed]",
      "text/plain": [
       "<Figure size 640x480 with 1 Axes>"
      ]
     },
     "metadata": {},
     "output_type": "display_data"
    },
    {
     "data": {
      "image/png": "[encoded data removed]",
      "text/plain": [
       "<Figure size 640x480 with 1 Axes>"
      ]
     },
     "metadata": {},
     "output_type": "display_data"
    },
    {
     "name": "stdout",
     "output_type": "stream",
     "text": [
      "Best number of clusters for K-means: 7\n",
      "Best number of clusters for GMM: 4\n",
      "Best number of clusters for Hierarchical: 7\n"
     ]
    }
   ],
   "source": [
    "# Check the number of unique labels\n",
    "num_unique_labels = len(set(Y))\n",
    "if num_unique_labels < 2:\n",
    "    print(\"Error!\")\n",
    "else:\n",
    "    # Define the range of clusters to explore\n",
    "    num_clusters_range = range(2, 10)\n",
    "\n",
    "    # Initialize lists to store evaluation metric scores\n",
    "    kmeans_silhouette_scores = []\n",
    "    kmeans_ari_scores = []\n",
    "    kmeans_nmi_scores=[]\n",
    "    gmm_silhouette_scores = []\n",
    "    gmm_ari_scores = []\n",
    "    gmm_nmi_scores=[]\n",
    "    hierarchical_silhouette_scores = []\n",
    "    hierarchical_ari_scores = []\n",
    "    hierarchical_nmi_scores=[]\n",
    "\n",
    "    # Loop over different numbers of clusters\n",
    "    for num_clusters in num_clusters_range:\n",
    "        # K-means\n",
    "        kmeans = KMeans(n_clusters=num_clusters,n_init=10, random_state=42)\n",
    "        kmeans.fit(X_2d)\n",
    "        kmeans_labels = kmeans.labels_\n",
    "        kmeans_silhouette = silhouette_score(X_2d, kmeans_labels)\n",
    "        kmeans_ari = adjusted_rand_score(Y, kmeans_labels)\n",
    "        kmeans_nmi = normalized_mutual_info_score(Y, kmeans_labels)\n",
    "        kmeans_silhouette_scores.append(kmeans_silhouette)\n",
    "        kmeans_ari_scores.append(kmeans_ari)\n",
    "        kmeans_nmi_scores.append(kmeans_nmi)\n",
    "        print(f\"K-means: Number of Clusters: {num_clusters}\\t Silhouette Score: {kmeans_silhouette}\\t ARI: {kmeans_ari}\\t NMI Score:{kmeans_nmi}\")\n",
    "\n",
    "\n",
    "        # EM clustering using GMM\n",
    "        gmm = GaussianMixture(n_components=num_clusters, random_state=42)\n",
    "        gmm.fit(X_2d)\n",
    "        gmm_labels = gmm.predict(X_2d)\n",
    "        gmm_silhouette = silhouette_score(X_2d, gmm_labels)\n",
    "        gmm_ari = adjusted_rand_score(Y, gmm_labels)\n",
    "        gmm_nmi = normalized_mutual_info_score(Y, gmm_labels)\n",
    "        gmm_silhouette_scores.append(gmm_silhouette)\n",
    "        gmm_ari_scores.append(gmm_ari)\n",
    "        gmm_nmi_scores.append(gmm_nmi)\n",
    "        print(f\"EM Clustering: Number of Clusters: {num_clusters}\\t Silhouette Score: {gmm_silhouette}\\t ARI: {gmm_ari}\")\n",
    "\n",
    "\n",
    "        # Hierarchical clustering\n",
    "        hierarchical = AgglomerativeClustering(n_clusters=num_clusters)\n",
    "        hierarchical.fit(X_2d)\n",
    "        hierarchical_labels = hierarchical.labels_\n",
    "        hierarchical_silhouette = silhouette_score(X_2d, hierarchical_labels)\n",
    "        hierarchical_ari = adjusted_rand_score(Y, hierarchical_labels)\n",
    "        hierarchical_nmi = normalized_mutual_info_score(Y, hierarchical_labels)\n",
    "        hierarchical_silhouette_scores.append(hierarchical_silhouette)\n",
    "        hierarchical_ari_scores.append(hierarchical_ari)\n",
    "        hierarchical_nmi_scores.append(hierarchical_nmi)\n",
    "        print(f\"Hierarchical Clustering: Number of Clusters: {num_clusters}\\t Silhouette Score: {hierarchical_silhouette}\\t ARI: {hierarchical_ari}\\n \")\n",
    "\n",
    "\n",
    "    # Visualize Silhouette Scores\n",
    "    plt.plot(num_clusters_range, kmeans_silhouette_scores, label='K-means')\n",
    "    plt.plot(num_clusters_range, gmm_silhouette_scores, label='GMM')\n",
    "    plt.plot(num_clusters_range, hierarchical_silhouette_scores, label='Hierarchical')\n",
    "    plt.xlabel('Number of Clusters')\n",
    "    plt.ylabel('Silhouette Score')\n",
    "    plt.legend()\n",
    "    plt.title('Silhouette Scores for Different Clustering Algorithms')\n",
    "    plt.show()\n",
    "\n",
    "    # Visualize ARI Scores\n",
    "    plt.plot(num_clusters_range, kmeans_ari_scores, label='K-means')\n",
    "    plt.plot(num_clusters_range, gmm_ari_scores, label='GMM')\n",
    "    plt.plot(num_clusters_range, hierarchical_ari_scores, label='Hierarchical')\n",
    "    plt.xlabel('Number of Clusters')\n",
    "    plt.ylabel('Adjusted Rand Index (ARI)')\n",
    "    plt.legend()\n",
    "    plt.title('Adjusted Rand Index (ARI) for Different Clustering Algorithms')\n",
    "    plt.show()\n",
    "    \n",
    "    # Visualize NMI Scores\n",
    "    plt.plot(num_clusters_range, kmeans_nmi_scores, label='K-means')\n",
    "    plt.plot(num_clusters_range, gmm_nmi_scores, label='GMM')\n",
    "    plt.plot(num_clusters_range, hierarchical_nmi_scores, label='Hierarchical')\n",
    "    plt.xlabel('Number of Clusters')\n",
    "    plt.ylabel('Normalized Mutual Info (NMI)')\n",
    "    plt.legend()\n",
    "    plt.title('Normalized Mutual Info (NMI) for Different Clustering Algorithms')\n",
    "    plt.show()\n",
    "\n",
    "    # Draw Conclusions\n",
    "    best_kmeans_num_clusters = num_clusters_range[kmeans_silhouette_scores.index(max(kmeans_silhouette_scores))]\n",
    "    best_gmm_num_clusters = num_clusters_range[gmm_silhouette_scores.index(max(gmm_silhouette_scores))]\n",
    "    best_hierarchical_num_clusters = num_clusters_range[hierarchical_silhouette_scores.index(max(hierarchical_silhouette_scores))]\n",
    "    \n",
    "    print(f\"Best number of clusters for K-means: {best_kmeans_num_clusters}\")\n",
    "    print(f\"Best number of clusters for GMM: {best_gmm_num_clusters}\")\n",
    "    print(f\"Best number of clusters for Hierarchical: {best_hierarchical_num_clusters}\")\n"
   ]
  },
  {
   "cell_type": "markdown",
   "id": "c8ac17b3",
   "metadata": {},
   "source": [
    "# Discussion and conclusion"
   ]
  },
  {
   "cell_type": "markdown",
   "id": "2b7a9a50",
   "metadata": {},
   "source": [
    "Clustering is performed using three different algorithms: K-means, Gaussian Mixture Model (GMM), and Hierarchical Clustering. The model evaluates the clustering performance using Silhouette Score, Adjusted Rand Index (ARI), and Normalized Mutual Info (NMI) for varying numbers of clusters. \n",
    "\n",
    "The clustering Visualization shows the visual representation of cluster centroids for K-means. Each centroid represents a cluster.\n",
    "The visual representation provides a sense of how each cluster looks like, but it may not be meaningful for all datasets, especially when dealing with high-dimensional data.\n",
    "\n",
    "ARI measures the similarity between true class labels and the predicted clusters, with 0 meaning random labeling and 1 indicating perfect clustering.\n",
    "NMI measures the mutual information between true class labels and the predicted clusters, with 0 meaning no mutual information and 1 indicating perfect clustering.\n",
    "best number of clusters for K-means, GMM, and Hierarchical Clustering based on the Silhouette Score.\n",
    "\n",
    "The best number of clusters may vary for different datasets. It's important to select a number of clusters that makes sense based on the domain knowledge or further analysis.\n",
    "Lastly, clustering performance is evaluated using multiple algorithms and evaluation metrics which helps in understanding the quality of clustering and assists in finding the optimal number of clusters for the given dataset. "
   ]
  },
  {
   "cell_type": "markdown",
   "id": "a008555b",
   "metadata": {},
   "source": [
    "# Part3: Supervised learning"
   ]
  },
  {
   "cell_type": "code",
   "execution_count": 25,
   "id": "321c7a05",
   "metadata": {},
   "outputs": [],
   "source": [
    "dtcl = DecisionTreeClassifier()"
   ]
  },
  {
   "cell_type": "code",
   "execution_count": 26,
   "id": "ddf4edb4",
   "metadata": {},
   "outputs": [],
   "source": [
    "#measuring accuracy for the train set\n",
    "\n",
    "#reshaping the input features\n",
    "num_samples, img_height, img_width, num_channels = X_train.shape\n",
    "X_train_reshaped = X_train.reshape(num_samples, img_height * img_width * num_channels)\n",
    "\n",
    "k = 10  # Number of folds for cross-validation\n",
    "scores = cross_val_score(dtcl, X_train_reshaped, Y_train, cv=k)"
   ]
  },
  {
   "cell_type": "code",
   "execution_count": 27,
   "id": "71ea295c",
   "metadata": {},
   "outputs": [
    {
     "name": "stdout",
     "output_type": "stream",
     "text": [
      "Accuracy scores for each fold - \n",
      " [1.     1.     1.     1.     1.     1.     1.     1.     0.9375 1.    ]\n",
      "Mean accuracy: 0.99375\n"
     ]
    }
   ],
   "source": [
    "print(f\"Accuracy scores for each fold - \\n {scores}\")\n",
    "print(\"Mean accuracy:\", scores.mean())"
   ]
  },
  {
   "cell_type": "code",
   "execution_count": 28,
   "id": "fe99e36f",
   "metadata": {},
   "outputs": [
    {
     "name": "stdout",
     "output_type": "stream",
     "text": [
      "Accuracy on test set: 0.975609756097561\n"
     ]
    }
   ],
   "source": [
    "# Reshape the training set\n",
    "X_train_reshaped = X_train.reshape(X_train.shape[0], -1)\n",
    "\n",
    "# Reshape the test set\n",
    "X_test_reshaped = X_test.reshape(X_test.shape[0], -1)\n",
    "\n",
    "# Create an instance of DecisionTreeClassifier\n",
    "dtcl = DecisionTreeClassifier(random_state=42)\n",
    "\n",
    "# Fit the decision tree classifier to the training data\n",
    "dtcl.fit(X_train_reshaped, Y_train)\n",
    "\n",
    "# Use the fitted classifier to predict the labels for the test set\n",
    "y_pred = dtcl.predict(X_test_reshaped)\n",
    "\n",
    "# Calculate the accuracy of the classifier's predictions on the test set\n",
    "accuracy = accuracy_score(Y_test, y_pred)\n",
    "print(\"Accuracy on test set:\", accuracy)"
   ]
  },
  {
   "cell_type": "code",
   "execution_count": 29,
   "id": "850c21ff",
   "metadata": {},
   "outputs": [
    {
     "name": "stdout",
     "output_type": "stream",
     "text": [
      "F1 Score: 0.9758820554712724\n",
      "Recall: 0.975609756097561\n",
      "Precision: 0.9780487804878049\n"
     ]
    }
   ],
   "source": [
    "precision = precision_score(Y_test, y_pred, average = \"weighted\")\n",
    "recall = recall_score(Y_test, y_pred, average='weighted')\n",
    "f1 = f1_score(Y_test, y_pred, average='weighted')\n",
    "\n",
    "print(\"F1 Score:\", f1)\n",
    "print(\"Recall:\", recall)\n",
    "print(\"Precision:\", precision)"
   ]
  },
  {
   "cell_type": "code",
   "execution_count": 30,
   "id": "f59c57dc",
   "metadata": {},
   "outputs": [
    {
     "name": "stdout",
     "output_type": "stream",
     "text": [
      "Parameters: {'max_depth': 3}\n",
      "Training Set:\n",
      "Accuracy: 0.8282208588957055\n",
      "Precision: 0.8369954215988341\n",
      "Recall: 0.8274134534196453\n",
      "TP: 40\n",
      "FP: 11\n",
      "F1 Score: 0.8283350827210477\n",
      "Test Set:\n",
      "Accuracy: 0.8048780487804879\n",
      "Precision: 0.8141414141414142\n",
      "Recall: 0.8257080610021786\n",
      "TP: 8\n",
      "FP: 0\n",
      "F1 Score: 0.7936507936507936\n",
      "---------------------\n",
      "Parameters: {'min_impurity_decrease': 0.01}\n",
      "Training Set:\n",
      "Accuracy: 0.8282208588957055\n",
      "Precision: 0.8369954215988341\n",
      "Recall: 0.8274134534196453\n",
      "TP: 40\n",
      "FP: 11\n",
      "F1 Score: 0.8283350827210477\n",
      "Test Set:\n",
      "Accuracy: 0.8048780487804879\n",
      "Precision: 0.8141414141414142\n",
      "Recall: 0.8257080610021786\n",
      "TP: 8\n",
      "FP: 0\n",
      "F1 Score: 0.7936507936507936\n",
      "---------------------\n",
      "Parameters: {'criterion': 'entropy'}\n",
      "Training Set:\n",
      "Accuracy: 0.7730061349693251\n",
      "Precision: 0.8163650075414782\n",
      "Recall: 0.7767457860337118\n",
      "TP: 41\n",
      "FP: 27\n",
      "F1 Score: 0.7651324897775202\n",
      "Test Set:\n",
      "Accuracy: 0.7317073170731707\n",
      "Precision: 0.7952069716775599\n",
      "Recall: 0.7433551198257081\n",
      "TP: 8\n",
      "FP: 9\n",
      "F1 Score: 0.7017325448697997\n",
      "---------------------\n",
      "Parameters: {'min_samples_leaf': 5}\n",
      "Training Set:\n",
      "Accuracy: 0.7730061349693251\n",
      "Precision: 0.8163650075414782\n",
      "Recall: 0.7767457860337118\n",
      "TP: 41\n",
      "FP: 27\n",
      "F1 Score: 0.7651324897775202\n",
      "Test Set:\n",
      "Accuracy: 0.7317073170731707\n",
      "Precision: 0.7952069716775599\n",
      "Recall: 0.7433551198257081\n",
      "TP: 8\n",
      "FP: 9\n",
      "F1 Score: 0.7017325448697997\n",
      "---------------------\n",
      "Parameters: {'ccp_alpha': 0.1}\n",
      "Training Set:\n",
      "Accuracy: 0.7730061349693251\n",
      "Precision: 0.8163650075414782\n",
      "Recall: 0.7767457860337118\n",
      "TP: 41\n",
      "FP: 27\n",
      "F1 Score: 0.7651324897775202\n",
      "Test Set:\n",
      "Accuracy: 0.7317073170731707\n",
      "Precision: 0.7952069716775599\n",
      "Recall: 0.7433551198257081\n",
      "TP: 8\n",
      "FP: 9\n",
      "F1 Score: 0.7017325448697997\n",
      "---------------------\n"
     ]
    }
   ],
   "source": [
    "#calculating the depth of the decision tree\n",
    "\n",
    "# Experiment with different parameters\n",
    "parameters = [\n",
    "    {\"max_depth\": 3},\n",
    "    {\"min_impurity_decrease\": 0.01},\n",
    "    {\"criterion\": \"entropy\"},\n",
    "    {\"min_samples_leaf\": 5},\n",
    "    {\"ccp_alpha\": 0.1}\n",
    "]\n",
    "\n",
    "# Loop over the parameters\n",
    "for params in parameters:\n",
    "    # Set the parameters for the classifier\n",
    "    dtcl.set_params(**params)\n",
    "\n",
    "    # Fit the classifier on the training set\n",
    "    dtcl.fit(X_train_reshaped, Y_train)\n",
    "\n",
    "    # Predict on the training set and calculate metrics\n",
    "    Y_train_pred = dtcl.predict(X_train_reshaped)\n",
    "    train_conf_mat = confusion_matrix(Y_train, Y_train_pred)\n",
    "    train_TP = train_conf_mat[1, 1]\n",
    "    train_FP = train_conf_mat[0, 1]\n",
    "    train_accuracy = accuracy_score(Y_train, Y_train_pred)\n",
    "    train_precision = precision_score(Y_train, Y_train_pred, average='macro')\n",
    "    train_recall = recall_score(Y_train, Y_train_pred, average='macro')\n",
    "    train_f1 = f1_score(Y_train, Y_train_pred, average='macro')\n",
    "\n",
    "    # Predict on the test set and calculate metrics\n",
    "    Y_test_pred = dtcl.predict(X_test_reshaped)\n",
    "    test_conf_mat = confusion_matrix(Y_test, Y_test_pred)\n",
    "    test_TP = test_conf_mat[1, 1]\n",
    "    test_FP = test_conf_mat[0, 1]\n",
    "    test_accuracy = accuracy_score(Y_test, Y_test_pred)\n",
    "    test_precision = precision_score(Y_test, Y_test_pred, average='macro')\n",
    "    test_recall = recall_score(Y_test, Y_test_pred, average='macro')\n",
    "    test_f1 = f1_score(Y_test, Y_test_pred, average='macro')\n",
    "\n",
    "    # Print the results\n",
    "    print(\"Parameters:\", params)\n",
    "    print(\"Training Set:\")\n",
    "    print(\"Accuracy:\", train_accuracy)\n",
    "    print(\"Precision:\", train_precision)\n",
    "    print(\"Recall:\", train_recall)\n",
    "    print(\"TP:\", train_TP)\n",
    "    print(\"FP:\", train_FP)\n",
    "    print(\"F1 Score:\", train_f1)\n",
    "    print(\"Test Set:\")\n",
    "    print(\"Accuracy:\", test_accuracy)\n",
    "    print(\"Precision:\", test_precision)\n",
    "    print(\"Recall:\", test_recall)\n",
    "    print(\"TP:\", test_TP)\n",
    "    print(\"FP:\", test_FP)\n",
    "    print(\"F1 Score:\", test_f1)\n",
    "    print(\"---------------------\")"
   ]
  },
  {
   "cell_type": "code",
   "execution_count": 31,
   "id": "8cc63f0c",
   "metadata": {},
   "outputs": [
    {
     "name": "stdout",
     "output_type": "stream",
     "text": [
      "Accuracies for 30% instances in testing set:\n",
      "Training Accuracy: 1.0\n",
      "Testing Accuracy: 1.0\n",
      "Accuracies for 60% instances in testing set:\n",
      "Training Accuracy: 1.0\n",
      "Testing Accuracy: 0.9897959183673469\n"
     ]
    }
   ],
   "source": [
    "#Making new training and testing sets, by moving 30% of the instances from the original training set into the testing set.\n",
    "\n",
    "#reshaping the imput data to have two dimensions\n",
    "X_train_reshaped = X_train.reshape(X_train.shape[0], -1)\n",
    "X_test_reshaped = X_test.reshape(X_test.shape[0], -1)\n",
    "\n",
    "# Create a new training set and testing set with 30% instances in the testing set\n",
    "X_train_new, X_test_new, y_train_new, y_test_new = train_test_split(X_train_reshaped,Y_train, test_size=0.3, random_state=42)\n",
    "\n",
    "# Create an instance of DecisionTreeClassifier\n",
    "dtcl = DecisionTreeClassifier()\n",
    "\n",
    "# Fit the decision tree classifier on the new training set\n",
    "dtcl.fit(X_train_new, y_train_new)\n",
    "\n",
    "# Evaluate accuracy on the training set\n",
    "y_train_pred_new = dtcl.predict(X_train_new)\n",
    "train_accuracy_new = accuracy_score(y_train_new, y_train_pred_new)\n",
    "\n",
    "# Evaluate accuracy on the testing set\n",
    "y_test_pred_new = dtcl.predict(X_test_new)\n",
    "test_accuracy_new = accuracy_score(y_test_new, y_test_pred_new)\n",
    "\n",
    "# Print the accuracies\n",
    "print(\"Accuracies for 30% instances in testing set:\")\n",
    "print(\"Training Accuracy:\", train_accuracy_new)\n",
    "print(\"Testing Accuracy:\", test_accuracy_new)\n",
    "\n",
    "# Create a new training set and testing set with 60% instances in the testing set\n",
    "X_train_new2, X_test_new2, y_train_new2, y_test_new2 = train_test_split(X_train_reshaped, Y_train, test_size=0.6, random_state=42)\n",
    "\n",
    "# Fit the decision tree classifier on the new training set\n",
    "dtcl.fit(X_train_new2, y_train_new2)\n",
    "\n",
    "# Evaluate accuracy on the training set\n",
    "y_train_pred_new2 = dtcl.predict(X_train_new2)\n",
    "train_accuracy_new2 = accuracy_score(y_train_new2, y_train_pred_new2)\n",
    "\n",
    "# Evaluate accuracy on the testing set\n",
    "y_test_pred_new2 = dtcl.predict(X_test_new2)\n",
    "test_accuracy_new2 = accuracy_score(y_test_new2, y_test_pred_new2)\n",
    "\n",
    "# Print the accuracies\n",
    "print(\"Accuracies for 60% instances in testing set:\")\n",
    "print(\"Training Accuracy:\", train_accuracy_new2)\n",
    "print(\"Testing Accuracy:\", test_accuracy_new2)"
   ]
  },
  {
   "cell_type": "markdown",
   "id": "b5354a2f",
   "metadata": {},
   "source": [
    "# Discussion and conclusion"
   ]
  },
  {
   "cell_type": "markdown",
   "id": "c85f568a",
   "metadata": {},
   "source": [
    "The provided code and results show the evaluation of a Decision Tree Classifier on a dataset. The model's performance is excellent, it performs exceptionally well on this dataset judging by its high accuracy, precision, recall, and F1 score on both the test set and cross-validation. The model performs very well on different subsets of the training data. It demonstrates robustness to changes in certain hyperparameter values, and even with a reduced dataset, it maintains high accuracy. However, further evaluation on a larger and more diverse dataset would be needed to ensure the model's generalization capabilities. Hyperparameter tuning could also be explored to optimize the model further. Overall, the Decision Tree Classifier appears to be a strong candidate for the given task based on the provided results."
   ]
  },
  {
   "cell_type": "markdown",
   "id": "58ec1203",
   "metadata": {},
   "source": [
    "# Part4: Neural Networks and Convolutional Neural Networks. "
   ]
  },
  {
   "cell_type": "code",
   "execution_count": 32,
   "id": "a6337bd7",
   "metadata": {},
   "outputs": [
    {
     "name": "stdout",
     "output_type": "stream",
     "text": [
      "Linear Regression - Training Set (without cross-validation):\n",
      "Mean Squared Error (MSE): 6.973569304317321e+22\n",
      "Linear Regression - Test Set (without cross-validation):\n",
      "Mean Squared Error (MSE): 6.973569304317321e+22\n"
     ]
    }
   ],
   "source": [
    "from sklearn.metrics import mean_squared_error\n",
    "\n",
    "# Reshaping the input data to have two dimensions\n",
    "\n",
    "X_train_reshaped = X.reshape(X.shape[0], -1)\n",
    "\n",
    "#X_test_reshaped = X.reshape(X.shape[0], -1)\n",
    "\n",
    "# Split the data into training and test sets\n",
    "X_train, X_test, Y_train, Y_test = train_test_split(X_train_reshaped, Y, test_size=0.2, random_state=42)\n",
    "\n",
    "# Initialize the Linear classifier\n",
    "linear_clf = LinearRegression()\n",
    "\n",
    "\n",
    "# Fit the classifier on the training set\n",
    "linear_clf.fit(X_train, Y_train)\n",
    "\n",
    "# Predict on the training set and calculate MSE\n",
    "y_train_pred_linear = linear_clf.predict(X_train)\n",
    "train_mse_linear = mean_squared_error(Y_train, y_train_pred_linear)\n",
    "\n",
    "# Predict on the test set and calculate MSE\n",
    "y_test_pred_linear = linear_clf.predict(X_test)\n",
    "test_mse_linear = mean_squared_error(Y_test, y_test_pred_linear)\n",
    "\n",
    "# Print the test MSE without cross-validation\n",
    "print(\"Linear Regression - Training Set (without cross-validation):\")\n",
    "print(\"Mean Squared Error (MSE):\", test_mse_linear)\n",
    "\n",
    "# Print the test MSE without cross-validation\n",
    "print(\"Linear Regression - Test Set (without cross-validation):\")\n",
    "print(\"Mean Squared Error (MSE):\", test_mse_linear)"
   ]
  },
  {
   "cell_type": "code",
   "execution_count": 36,
   "id": "ceb695be",
   "metadata": {},
   "outputs": [
    {
     "name": "stdout",
     "output_type": "stream",
     "text": [
      "Multilayer Perceptron (MLP) - Best Parameters:\n",
      "{'activation': 'relu', 'hidden_layer_sizes': (100, 50, 100), 'learning_rate_init': 0.001}\n",
      "Multilayer Perceptron (MLP) - Training Set:\n",
      "Accuracy: 1.0\n",
      "Multilayer Perceptron (MLP) - Test Set:\n",
      "Accuracy: 1.0\n"
     ]
    }
   ],
   "source": [
    "from sklearn.neural_network import MLPClassifier\n",
    "from sklearn.model_selection import GridSearchCV\n",
    "\n",
    "# Initialize the MLP classifier\n",
    "mlp_clf = MLPClassifier(max_iter =500)\n",
    "\n",
    "# Define the parameter grid for grid search\n",
    "param_grid = {\n",
    "    'activation': ['relu', 'tanh'],\n",
    "    'hidden_layer_sizes': [(100,), (50, 50), (100, 50, 100)],\n",
    "    'learning_rate_init': [0.001, 0.01, 0.1],\n",
    "}\n",
    "\n",
    "# Perform grid search with cross-validation to find the best parameters\n",
    "grid_search = GridSearchCV(mlp_clf, param_grid, cv=5, n_jobs=-1)\n",
    "grid_search.fit(X_train, Y_train)\n",
    "\n",
    "# Get the best parameters and the best MLP classifier\n",
    "best_params = grid_search.best_params_\n",
    "best_mlp_clf = grid_search.best_estimator_\n",
    "\n",
    "# Fit the best MLP classifier on the training set\n",
    "best_mlp_clf.fit(X_train, Y_train)\n",
    "\n",
    "# Predict on the training set and calculate accuracy\n",
    "y_train_pred_mlp = best_mlp_clf.predict(X_train)\n",
    "train_accuracy_mlp = accuracy_score(Y_train, y_train_pred_mlp)\n",
    "\n",
    "# Predict on the test set and calculate accuracy\n",
    "y_test_pred_mlp = best_mlp_clf.predict(X_test)\n",
    "test_accuracy_mlp = accuracy_score(Y_test, y_test_pred_mlp)\n",
    "\n",
    "# Print the results\n",
    "print(\"Multilayer Perceptron (MLP) - Best Parameters:\")\n",
    "print(best_params)\n",
    "\n",
    "print(\"Multilayer Perceptron (MLP) - Training Set:\")\n",
    "print(\"Accuracy:\", train_accuracy_mlp)\n",
    "\n",
    "print(\"Multilayer Perceptron (MLP) - Test Set:\")\n",
    "print(\"Accuracy:\", test_accuracy_mlp)"
   ]
  },
  {
   "cell_type": "markdown",
   "id": "a1ac5d4a",
   "metadata": {},
   "source": [
    "# Discussion and conclusion"
   ]
  },
  {
   "cell_type": "markdown",
   "id": "31a7dc4e",
   "metadata": {},
   "source": [
    "The linear regression model performed poorly on the dataset, as seen from the extremely high mean squared error (MSE) on both the training and test sets.\n",
    "The high MSE suggests that the linear model is not appropriate for this dataset, meaning that the relationship between the input features and the target variable is not linear.\n",
    "\n",
    "A grid search was used to find the best hyperparameters for the MLP classifier, and the optimal parameters were {'activation': 'relu', 'hidden_layer_sizes': (100, 50, 100), 'learning_rate_init': 0.001}.\n",
    "The MLP classifier achieved perfect accuracy (1.0) on both the training and test sets, but this might be a sign of overfitting on the model and regularization techniques or adjusting the complexity of the model could be used to address this issue.\n",
    "\n",
    "The linear regression model needs improvement, possibly by trying more sophisticated regression models or non-linear algorithms.\n",
    "\n",
    "Additional evaluation metrics and further data exploration could help in refining the models' performance and generalization capabilities.\n",
    "In conclusion, both models requires tuning and further refinement and to achieve better performance on new, or unseen data."
   ]
  }
 ],
 "metadata": {
  "kernelspec": {
   "display_name": "Python 3 (ipykernel)",
   "language": "python",
   "name": "python3"
  },
  "language_info": {
   "codemirror_mode": {
    "name": "ipython",
    "version": 3
   },
   "file_extension": ".py",
   "mimetype": "text/x-python",
   "name": "python",
   "nbconvert_exporter": "python",
   "pygments_lexer": "ipython3",
   "version": "3.9.13"
  }
 },
 "nbformat": 4,
 "nbformat_minor": 5
}
